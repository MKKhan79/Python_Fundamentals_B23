{
 "cells": [
  {
   "cell_type": "code",
   "execution_count": 1,
   "metadata": {},
   "outputs": [
    {
     "name": "stdout",
     "output_type": "stream",
     "text": [
      "MK Khan\n"
     ]
    }
   ],
   "source": [
    "print('MK Khan')"
   ]
  },
  {
   "cell_type": "code",
   "execution_count": 7,
   "metadata": {},
   "outputs": [],
   "source": [
    "#Python is case sesitive language"
   ]
  },
  {
   "cell_type": "code",
   "execution_count": 15,
   "metadata": {},
   "outputs": [
    {
     "name": "stdout",
     "output_type": "stream",
     "text": [
      "8\n"
     ]
    }
   ],
   "source": [
    "x=3\n",
    "y=5\n",
    "type(x+y)\n",
    "print(x+y)"
   ]
  },
  {
   "cell_type": "code",
   "execution_count": 6,
   "metadata": {},
   "outputs": [],
   "source": [
    "# VARIABLE IS A PLACEHOLDER FOR HOLDING DATA"
   ]
  },
  {
   "cell_type": "code",
   "execution_count": null,
   "metadata": {},
   "outputs": [],
   "source": [
    "# There are two types of variables.\n",
    "#Mutable and immutable Variables.\n",
    "#Mutable are those whose values can be changed, modified or altered once assigned or declared\n",
    "#Immutable are those whose values CANNOT be changed, modified or altered once assigned or declared"
   ]
  },
  {
   "cell_type": "code",
   "execution_count": null,
   "metadata": {},
   "outputs": [],
   "source": [
    "#RULES FOR VARIABLE DECLARATION\n",
    "# 1. VARIABLE NAME SHOULD NOT HAVE SPACE IN BETWEEN\n",
    "# 2. VARIABLE NAME SHOULD NOT START WITH NUMBER\n",
    "# 3. VARIABLE NAME SHOULD NOT HAVE SPECIAL CHARACTERS.\n",
    "# UnderScore can be used in variable name convention - like  First_Name = \"MK\""
   ]
  },
  {
   "cell_type": "code",
   "execution_count": null,
   "metadata": {},
   "outputs": [],
   "source": [
    "#iNTRODUCTION TO DATATYPES IN PYTHON\n",
    "#1. string  --- str\n",
    "#2. integers--- int\n",
    "#3. list ---- list\n",
    "#4. Tuple ---- tuple\n",
    "#5. Dictionary -- Dict"
   ]
  },
  {
   "cell_type": "code",
   "execution_count": null,
   "metadata": {},
   "outputs": [],
   "source": [
    "#String data type has some built in methods for easy conventional use.\n",
    "# Some of the builtin methods are like .Upper(), .Title(), .Lower().\n",
    "# some of the builtin functions for string are like type(VariableName) this will give u the type.\n",
    " \n",
    "\n"
   ]
  },
  {
   "cell_type": "code",
   "execution_count": 9,
   "metadata": {},
   "outputs": [],
   "source": [
    "first_Name='MK'\n",
    "last_Name = \"\"\"Khan\"\"\""
   ]
  },
  {
   "cell_type": "code",
   "execution_count": 10,
   "metadata": {},
   "outputs": [
    {
     "name": "stdout",
     "output_type": "stream",
     "text": [
      "MK\n"
     ]
    }
   ],
   "source": [
    "print(first_Name)"
   ]
  },
  {
   "cell_type": "code",
   "execution_count": 11,
   "metadata": {},
   "outputs": [
    {
     "name": "stdout",
     "output_type": "stream",
     "text": [
      "Khan\n"
     ]
    }
   ],
   "source": [
    "print(last_Name)"
   ]
  },
  {
   "cell_type": "code",
   "execution_count": null,
   "metadata": {},
   "outputs": [],
   "source": []
  }
 ],
 "metadata": {
  "kernelspec": {
   "display_name": "Python 3",
   "language": "python",
   "name": "python3"
  },
  "language_info": {
   "codemirror_mode": {
    "name": "ipython",
    "version": 3
   },
   "file_extension": ".py",
   "mimetype": "text/x-python",
   "name": "python",
   "nbconvert_exporter": "python",
   "pygments_lexer": "ipython3",
   "version": "3.7.6"
  }
 },
 "nbformat": 4,
 "nbformat_minor": 4
}
